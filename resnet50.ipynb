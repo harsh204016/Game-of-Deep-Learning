{
  "nbformat": 4,
  "nbformat_minor": 0,
  "metadata": {
    "colab": {
      "name": "resnet50.ipynb",
      "version": "0.3.2",
      "provenance": [],
      "collapsed_sections": [],
      "include_colab_link": true
    },
    "kernelspec": {
      "name": "python3",
      "display_name": "Python 3"
    },
    "accelerator": "TPU"
  },
  "cells": [
    {
      "cell_type": "markdown",
      "metadata": {
        "id": "view-in-github",
        "colab_type": "text"
      },
      "source": [
        "<a href=\"https://colab.research.google.com/github/harsh204016/Game-of-Deep-Learning/blob/master/resnet50.ipynb\" target=\"_parent\"><img src=\"https://colab.research.google.com/assets/colab-badge.svg\" alt=\"Open In Colab\"/></a>"
      ]
    },
    {
      "cell_type": "code",
      "metadata": {
        "id": "KJLhq7_qsJS4",
        "colab_type": "code",
        "outputId": "ff579ee7-fded-4786-9a05-ada52ffd0719",
        "colab": {
          "base_uri": "https://localhost:8080/",
          "height": 51
        }
      },
      "source": [
        "!pip install -U -q PyDrive\n",
        "import os\n",
        "from pydrive.auth import GoogleAuth\n",
        "from pydrive.drive import GoogleDrive\n",
        "from google.colab import auth\n",
        "from oauth2client.client import GoogleCredentials"
      ],
      "execution_count": 0,
      "outputs": [
        {
          "output_type": "stream",
          "text": [
            "\u001b[?25l\r\u001b[K     |▎                               | 10kB 17.0MB/s eta 0:00:01\r\u001b[K     |▋                               | 20kB 2.2MB/s eta 0:00:01\r\u001b[K     |█                               | 30kB 3.1MB/s eta 0:00:01\r\u001b[K     |█▎                              | 40kB 2.1MB/s eta 0:00:01\r\u001b[K     |█▋                              | 51kB 2.6MB/s eta 0:00:01\r\u001b[K     |██                              | 61kB 3.0MB/s eta 0:00:01\r\u001b[K     |██▎                             | 71kB 3.5MB/s eta 0:00:01\r\u001b[K     |██▋                             | 81kB 3.9MB/s eta 0:00:01\r\u001b[K     |███                             | 92kB 4.4MB/s eta 0:00:01\r\u001b[K     |███▎                            | 102kB 3.5MB/s eta 0:00:01\r\u001b[K     |███▋                            | 112kB 3.5MB/s eta 0:00:01\r\u001b[K     |████                            | 122kB 3.5MB/s eta 0:00:01\r\u001b[K     |████▎                           | 133kB 3.5MB/s eta 0:00:01\r\u001b[K     |████▋                           | 143kB 3.5MB/s eta 0:00:01\r\u001b[K     |█████                           | 153kB 3.5MB/s eta 0:00:01\r\u001b[K     |█████▎                          | 163kB 3.5MB/s eta 0:00:01\r\u001b[K     |█████▋                          | 174kB 3.5MB/s eta 0:00:01\r\u001b[K     |██████                          | 184kB 3.5MB/s eta 0:00:01\r\u001b[K     |██████▎                         | 194kB 3.5MB/s eta 0:00:01\r\u001b[K     |██████▋                         | 204kB 3.5MB/s eta 0:00:01\r\u001b[K     |███████                         | 215kB 3.5MB/s eta 0:00:01\r\u001b[K     |███████▎                        | 225kB 3.5MB/s eta 0:00:01\r\u001b[K     |███████▋                        | 235kB 3.5MB/s eta 0:00:01\r\u001b[K     |████████                        | 245kB 3.5MB/s eta 0:00:01\r\u001b[K     |████████▎                       | 256kB 3.5MB/s eta 0:00:01\r\u001b[K     |████████▋                       | 266kB 3.5MB/s eta 0:00:01\r\u001b[K     |█████████                       | 276kB 3.5MB/s eta 0:00:01\r\u001b[K     |█████████▎                      | 286kB 3.5MB/s eta 0:00:01\r\u001b[K     |█████████▋                      | 296kB 3.5MB/s eta 0:00:01\r\u001b[K     |██████████                      | 307kB 3.5MB/s eta 0:00:01\r\u001b[K     |██████████▎                     | 317kB 3.5MB/s eta 0:00:01\r\u001b[K     |██████████▋                     | 327kB 3.5MB/s eta 0:00:01\r\u001b[K     |███████████                     | 337kB 3.5MB/s eta 0:00:01\r\u001b[K     |███████████▎                    | 348kB 3.5MB/s eta 0:00:01\r\u001b[K     |███████████▋                    | 358kB 3.5MB/s eta 0:00:01\r\u001b[K     |████████████                    | 368kB 3.5MB/s eta 0:00:01\r\u001b[K     |████████████▎                   | 378kB 3.5MB/s eta 0:00:01\r\u001b[K     |████████████▋                   | 389kB 3.5MB/s eta 0:00:01\r\u001b[K     |█████████████                   | 399kB 3.5MB/s eta 0:00:01\r\u001b[K     |█████████████▎                  | 409kB 3.5MB/s eta 0:00:01\r\u001b[K     |█████████████▋                  | 419kB 3.5MB/s eta 0:00:01\r\u001b[K     |██████████████                  | 430kB 3.5MB/s eta 0:00:01\r\u001b[K     |██████████████▎                 | 440kB 3.5MB/s eta 0:00:01\r\u001b[K     |██████████████▋                 | 450kB 3.5MB/s eta 0:00:01\r\u001b[K     |███████████████                 | 460kB 3.5MB/s eta 0:00:01\r\u001b[K     |███████████████▎                | 471kB 3.5MB/s eta 0:00:01\r\u001b[K     |███████████████▋                | 481kB 3.5MB/s eta 0:00:01\r\u001b[K     |████████████████                | 491kB 3.5MB/s eta 0:00:01\r\u001b[K     |████████████████▎               | 501kB 3.5MB/s eta 0:00:01\r\u001b[K     |████████████████▋               | 512kB 3.5MB/s eta 0:00:01\r\u001b[K     |█████████████████               | 522kB 3.5MB/s eta 0:00:01\r\u001b[K     |█████████████████▎              | 532kB 3.5MB/s eta 0:00:01\r\u001b[K     |█████████████████▋              | 542kB 3.5MB/s eta 0:00:01\r\u001b[K     |██████████████████              | 552kB 3.5MB/s eta 0:00:01\r\u001b[K     |██████████████████▎             | 563kB 3.5MB/s eta 0:00:01\r\u001b[K     |██████████████████▋             | 573kB 3.5MB/s eta 0:00:01\r\u001b[K     |███████████████████             | 583kB 3.5MB/s eta 0:00:01\r\u001b[K     |███████████████████▎            | 593kB 3.5MB/s eta 0:00:01\r\u001b[K     |███████████████████▋            | 604kB 3.5MB/s eta 0:00:01\r\u001b[K     |████████████████████            | 614kB 3.5MB/s eta 0:00:01\r\u001b[K     |████████████████████▎           | 624kB 3.5MB/s eta 0:00:01\r\u001b[K     |████████████████████▋           | 634kB 3.5MB/s eta 0:00:01\r\u001b[K     |█████████████████████           | 645kB 3.5MB/s eta 0:00:01\r\u001b[K     |█████████████████████▎          | 655kB 3.5MB/s eta 0:00:01\r\u001b[K     |█████████████████████▋          | 665kB 3.5MB/s eta 0:00:01\r\u001b[K     |██████████████████████          | 675kB 3.5MB/s eta 0:00:01\r\u001b[K     |██████████████████████▎         | 686kB 3.5MB/s eta 0:00:01\r\u001b[K     |██████████████████████▋         | 696kB 3.5MB/s eta 0:00:01\r\u001b[K     |███████████████████████         | 706kB 3.5MB/s eta 0:00:01\r\u001b[K     |███████████████████████▎        | 716kB 3.5MB/s eta 0:00:01\r\u001b[K     |███████████████████████▋        | 727kB 3.5MB/s eta 0:00:01\r\u001b[K     |████████████████████████        | 737kB 3.5MB/s eta 0:00:01\r\u001b[K     |████████████████████████▎       | 747kB 3.5MB/s eta 0:00:01\r\u001b[K     |████████████████████████▋       | 757kB 3.5MB/s eta 0:00:01\r\u001b[K     |████████████████████████▉       | 768kB 3.5MB/s eta 0:00:01\r\u001b[K     |█████████████████████████▏      | 778kB 3.5MB/s eta 0:00:01\r\u001b[K     |█████████████████████████▌      | 788kB 3.5MB/s eta 0:00:01\r\u001b[K     |█████████████████████████▉      | 798kB 3.5MB/s eta 0:00:01\r\u001b[K     |██████████████████████████▏     | 808kB 3.5MB/s eta 0:00:01\r\u001b[K     |██████████████████████████▌     | 819kB 3.5MB/s eta 0:00:01\r\u001b[K     |██████████████████████████▉     | 829kB 3.5MB/s eta 0:00:01\r\u001b[K     |███████████████████████████▏    | 839kB 3.5MB/s eta 0:00:01\r\u001b[K     |███████████████████████████▌    | 849kB 3.5MB/s eta 0:00:01\r\u001b[K     |███████████████████████████▉    | 860kB 3.5MB/s eta 0:00:01\r\u001b[K     |████████████████████████████▏   | 870kB 3.5MB/s eta 0:00:01\r\u001b[K     |████████████████████████████▌   | 880kB 3.5MB/s eta 0:00:01\r\u001b[K     |████████████████████████████▉   | 890kB 3.5MB/s eta 0:00:01\r\u001b[K     |█████████████████████████████▏  | 901kB 3.5MB/s eta 0:00:01\r\u001b[K     |█████████████████████████████▌  | 911kB 3.5MB/s eta 0:00:01\r\u001b[K     |█████████████████████████████▉  | 921kB 3.5MB/s eta 0:00:01\r\u001b[K     |██████████████████████████████▏ | 931kB 3.5MB/s eta 0:00:01\r\u001b[K     |██████████████████████████████▌ | 942kB 3.5MB/s eta 0:00:01\r\u001b[K     |██████████████████████████████▉ | 952kB 3.5MB/s eta 0:00:01\r\u001b[K     |███████████████████████████████▏| 962kB 3.5MB/s eta 0:00:01\r\u001b[K     |███████████████████████████████▌| 972kB 3.5MB/s eta 0:00:01\r\u001b[K     |███████████████████████████████▉| 983kB 3.5MB/s eta 0:00:01\r\u001b[K     |████████████████████████████████| 993kB 3.5MB/s \n",
            "\u001b[?25h  Building wheel for PyDrive (setup.py) ... \u001b[?25l\u001b[?25hdone\n"
          ],
          "name": "stdout"
        }
      ]
    },
    {
      "cell_type": "code",
      "metadata": {
        "id": "deHP8Gk1wBuL",
        "colab_type": "code",
        "outputId": "7151f7ba-80dd-48a4-c352-9d9896112a44",
        "colab": {
          "base_uri": "https://localhost:8080/",
          "height": 136
        }
      },
      "source": [
        "auth.authenticate_user()\n",
        "gauth = GoogleAuth()\n",
        "gauth.credentials = GoogleCredentials.get_application_default()\n",
        "drive = GoogleDrive(gauth)\n"
      ],
      "execution_count": 0,
      "outputs": [
        {
          "output_type": "stream",
          "text": [
            "\n",
            "WARNING: The TensorFlow contrib module will not be included in TensorFlow 2.0.\n",
            "For more information, please see:\n",
            "  * https://github.com/tensorflow/community/blob/master/rfcs/20180907-contrib-sunset.md\n",
            "  * https://github.com/tensorflow/addons\n",
            "If you depend on functionality not listed there, please file an issue.\n",
            "\n"
          ],
          "name": "stdout"
        }
      ]
    },
    {
      "cell_type": "code",
      "metadata": {
        "id": "smZRhg1QwSLg",
        "colab_type": "code",
        "colab": {}
      },
      "source": [
        "from google.colab import drive"
      ],
      "execution_count": 0,
      "outputs": []
    },
    {
      "cell_type": "code",
      "metadata": {
        "id": "D8S2cj2lzP3M",
        "colab_type": "code",
        "outputId": "3910a7c9-717c-465c-d3ed-772ea1c149f2",
        "colab": {
          "base_uri": "https://localhost:8080/",
          "height": 122
        }
      },
      "source": [
        "drive.mount('/content/drive')"
      ],
      "execution_count": 0,
      "outputs": [
        {
          "output_type": "stream",
          "text": [
            "Go to this URL in a browser: https://accounts.google.com/o/oauth2/auth?client_id=947318989803-6bn6qk8qdgf4n4g3pfee6491hc0brc4i.apps.googleusercontent.com&redirect_uri=urn%3Aietf%3Awg%3Aoauth%3A2.0%3Aoob&scope=email%20https%3A%2F%2Fwww.googleapis.com%2Fauth%2Fdocs.test%20https%3A%2F%2Fwww.googleapis.com%2Fauth%2Fdrive%20https%3A%2F%2Fwww.googleapis.com%2Fauth%2Fdrive.photos.readonly%20https%3A%2F%2Fwww.googleapis.com%2Fauth%2Fpeopleapi.readonly&response_type=code\n",
            "\n",
            "Enter your authorization code:\n",
            "··········\n",
            "Mounted at /content/drive\n"
          ],
          "name": "stdout"
        }
      ]
    },
    {
      "cell_type": "code",
      "metadata": {
        "id": "YWl_jQwO4wp2",
        "colab_type": "code",
        "outputId": "58f1ea7a-c9a9-4f7f-f1bc-e8632e70669b",
        "colab": {
          "base_uri": "https://localhost:8080/",
          "height": 51
        }
      },
      "source": [
        "!ls \"/content/drive/My Drive/ML Competitions/Game of Deep learning\""
      ],
      "execution_count": 0,
      "outputs": [
        {
          "output_type": "stream",
          "text": [
            "code1.ipynb  data1.csv\tmodel2_with10epochs.h5\toutput128_3.csv   test.csv\n",
            "code2.ipynb  model2.h5\tmodel.h5\t\tsubmit1_1283.csv  train.csv\n"
          ],
          "name": "stdout"
        }
      ]
    },
    {
      "cell_type": "code",
      "metadata": {
        "id": "AOBBPiRxvrF1",
        "colab_type": "code",
        "colab": {}
      },
      "source": [
        "import os \n",
        "os.chdir('/content/drive/My Drive/ML Competitions/Game of Deep learning')"
      ],
      "execution_count": 0,
      "outputs": []
    },
    {
      "cell_type": "code",
      "metadata": {
        "id": "203ZtcHJ7ko2",
        "colab_type": "code",
        "outputId": "b79dcb55-d589-4632-b791-da65c96debf8",
        "colab": {
          "base_uri": "https://localhost:8080/",
          "height": 34
        }
      },
      "source": [
        "import datetime\n",
        "import pandas as pd\n",
        "import matplotlib.pyplot as plt\n",
        "import numpy as np\n",
        "import keras\n",
        "from keras.layers import Dense,GlobalAveragePooling2D\n",
        "from keras.layers.core import Dropout\n",
        "from keras.models import Model\n",
        "from keras.preprocessing.image import ImageDataGenerator\n",
        "from keras.applications import resnet50\n",
        "from sklearn.preprocessing import LabelEncoder\n",
        "from sklearn.model_selection import train_test_split\n",
        "from keras.utils.np_utils import to_categorical\n",
        "from csv import DictReader\n",
        "import keras.backend as K\n",
        "from keras import optimizers"
      ],
      "execution_count": 0,
      "outputs": [
        {
          "output_type": "stream",
          "text": [
            "Using TensorFlow backend.\n"
          ],
          "name": "stderr"
        }
      ]
    },
    {
      "cell_type": "code",
      "metadata": {
        "id": "Nj4w6Owi7sLQ",
        "colab_type": "code",
        "colab": {}
      },
      "source": [
        "#pixels=pd.read_csv(\"output128_3.csv\")\n",
        "#labels=pd.read_csv('train.csv')\n"
      ],
      "execution_count": 0,
      "outputs": []
    },
    {
      "cell_type": "code",
      "metadata": {
        "id": "vnw1fK5hw0q2",
        "colab_type": "code",
        "colab": {}
      },
      "source": [
        "#data1=pd.merge(pixels,labels,on='image')\n"
      ],
      "execution_count": 0,
      "outputs": []
    },
    {
      "cell_type": "code",
      "metadata": {
        "id": "gglvQRgwOcz0",
        "colab_type": "code",
        "outputId": "960c9c0a-aa33-4874-9cc8-1929ab54c1a5",
        "colab": {
          "base_uri": "https://localhost:8080/",
          "height": 34
        }
      },
      "source": [
        "#data1.to_csv(\"data1.csv\",sep=',',index=False)\n",
        "a=datetime.datetime.now()\n",
        "data1=pd.read_csv(\"data1.csv\")\n",
        "b=datetime.datetime.now()\n",
        "print(b-a)"
      ],
      "execution_count": 0,
      "outputs": [
        {
          "output_type": "stream",
          "text": [
            "0:05:14.565679\n"
          ],
          "name": "stdout"
        }
      ]
    },
    {
      "cell_type": "code",
      "metadata": {
        "id": "dejOo0vdxmxC",
        "colab_type": "code",
        "outputId": "03b90b9b-a23b-4064-bee9-63cb93fb3047",
        "colab": {
          "base_uri": "https://localhost:8080/",
          "height": 34
        }
      },
      "source": [
        "data1.shape"
      ],
      "execution_count": 0,
      "outputs": [
        {
          "output_type": "execute_result",
          "data": {
            "text/plain": [
              "(6252, 49154)"
            ]
          },
          "metadata": {
            "tags": []
          },
          "execution_count": 9
        }
      ]
    },
    {
      "cell_type": "code",
      "metadata": {
        "id": "NWlKF_fOGVz2",
        "colab_type": "code",
        "colab": {}
      },
      "source": [
        "Y=data1[\"category\"]\n",
        "X=data1.drop(labels = [\"category\",\"image\"],axis = 1)\n"
      ],
      "execution_count": 0,
      "outputs": []
    },
    {
      "cell_type": "code",
      "metadata": {
        "id": "itqjs_qt1Iqa",
        "colab_type": "code",
        "colab": {}
      },
      "source": [
        "X=X/255"
      ],
      "execution_count": 0,
      "outputs": []
    },
    {
      "cell_type": "code",
      "metadata": {
        "id": "zK3mvxUSGXa3",
        "colab_type": "code",
        "colab": {}
      },
      "source": [
        "X=X.values.reshape(-1,128,128,3)\n",
        "\n",
        "le=LabelEncoder()\n",
        "Y=le.fit_transform(Y)\n",
        "Y = to_categorical(Y,5)"
      ],
      "execution_count": 0,
      "outputs": []
    },
    {
      "cell_type": "code",
      "metadata": {
        "id": "sc6msOi9DYID",
        "colab_type": "code",
        "outputId": "00636157-a9e8-4e2b-a316-3f07b132cfdc",
        "colab": {
          "base_uri": "https://localhost:8080/",
          "height": 34
        }
      },
      "source": [
        "x_train,x_test,y_train,y_test=train_test_split(X, Y, test_size = 0.2, random_state = 2)\n",
        "x_train.shape"
      ],
      "execution_count": 0,
      "outputs": [
        {
          "output_type": "execute_result",
          "data": {
            "text/plain": [
              "(5001, 128, 128, 3)"
            ]
          },
          "metadata": {
            "tags": []
          },
          "execution_count": 13
        }
      ]
    },
    {
      "cell_type": "code",
      "metadata": {
        "id": "XQ5UjIR5ETYj",
        "colab_type": "code",
        "outputId": "bab91e5a-b4c9-4c50-a83c-7560665079cc",
        "colab": {
          "base_uri": "https://localhost:8080/",
          "height": 286
        }
      },
      "source": [
        "\n",
        "plt.imshow(x_train[0][:,:,0])"
      ],
      "execution_count": 0,
      "outputs": [
        {
          "output_type": "execute_result",
          "data": {
            "text/plain": [
              "<matplotlib.image.AxesImage at 0x7fde3ba540b8>"
            ]
          },
          "metadata": {
            "tags": []
          },
          "execution_count": 14
        },
        {
          "output_type": "display_data",
          "data": {
            "image/png": "[encoded data removed]",
            "text/plain": [
              "<Figure size 432x288 with 1 Axes>"
            ]
          },
          "metadata": {
            "tags": []
          }
        }
      ]
    },
    {
      "cell_type": "code",
      "metadata": {
        "id": "if2ElGoMEW0t",
        "colab_type": "code",
        "outputId": "24c07017-c232-47cd-a3a8-f8aeec4dea3a",
        "colab": {
          "base_uri": "https://localhost:8080/",
          "height": 122
        }
      },
      "source": [
        "\n",
        "base_model=resnet50.ResNet50(input_shape=(128,128,3),weights='imagenet',include_top=False)\n",
        " #imports the mobilenet model and discards the last 1000 neuron layer.\n",
        "  \n",
        "x=base_model.output\n",
        "x=GlobalAveragePooling2D()(x)\n",
        "x=Dense(1024,activation='relu')(x) #we add dense layers so that the model can learn more complex functions and classify for better results.\n",
        "x=Dropout(0.25)(x)\n",
        "x=Dense(512,activation='relu')(x) #dense layer 3\n",
        "x=Dropout(0.25)(x)\n",
        "preds=Dense(5,activation='softmax')(x) #final layer with softmax activation\n",
        "model=Model(inputs=base_model.input,outputs=preds)\n",
        "\n",
        "#K.set_learning_phase(1)\n"
      ],
      "execution_count": 0,
      "outputs": [
        {
          "output_type": "stream",
          "text": [
            "/usr/local/lib/python3.6/dist-packages/keras_applications/resnet50.py:265: UserWarning: The output shape of `ResNet50(include_top=False)` has been changed since Keras 2.2.0.\n",
            "  warnings.warn('The output shape of `ResNet50(include_top=False)` '\n"
          ],
          "name": "stderr"
        },
        {
          "output_type": "stream",
          "text": [
            "WARNING:tensorflow:From /usr/local/lib/python3.6/dist-packages/keras/backend/tensorflow_backend.py:3445: calling dropout (from tensorflow.python.ops.nn_ops) with keep_prob is deprecated and will be removed in a future version.\n",
            "Instructions for updating:\n",
            "Please use `rate` instead of `keep_prob`. Rate should be set to `rate = 1 - keep_prob`.\n"
          ],
          "name": "stdout"
        }
      ]
    },
    {
      "cell_type": "code",
      "metadata": {
        "id": "J65yQ85FEXAu",
        "colab_type": "code",
        "outputId": "d193a101-f02d-4cfb-8a80-99610cdc20f1",
        "colab": {
          "base_uri": "https://localhost:8080/",
          "height": 3094
        }
      },
      "source": [
        "for i,layer in enumerate(model.layers):\n",
        "  print(i,layer.name)\n",
        "\n",
        "for layer in model.layers[:20]:\n",
        "    layer.trainable=False\n",
        "for layer in model.layers[20:]:\n",
        "    layer.trainable=True\n"
      ],
      "execution_count": 0,
      "outputs": [
        {
          "output_type": "stream",
          "text": [
            "0 input_2\n",
            "1 conv1_pad\n",
            "2 conv1\n",
            "3 bn_conv1\n",
            "4 activation_50\n",
            "5 pool1_pad\n",
            "6 max_pooling2d_2\n",
            "7 res2a_branch2a\n",
            "8 bn2a_branch2a\n",
            "9 activation_51\n",
            "10 res2a_branch2b\n",
            "11 bn2a_branch2b\n",
            "12 activation_52\n",
            "13 res2a_branch2c\n",
            "14 res2a_branch1\n",
            "15 bn2a_branch2c\n",
            "16 bn2a_branch1\n",
            "17 add_17\n",
            "18 activation_53\n",
            "19 res2b_branch2a\n",
            "20 bn2b_branch2a\n",
            "21 activation_54\n",
            "22 res2b_branch2b\n",
            "23 bn2b_branch2b\n",
            "24 activation_55\n",
            "25 res2b_branch2c\n",
            "26 bn2b_branch2c\n",
            "27 add_18\n",
            "28 activation_56\n",
            "29 res2c_branch2a\n",
            "30 bn2c_branch2a\n",
            "31 activation_57\n",
            "32 res2c_branch2b\n",
            "33 bn2c_branch2b\n",
            "34 activation_58\n",
            "35 res2c_branch2c\n",
            "36 bn2c_branch2c\n",
            "37 add_19\n",
            "38 activation_59\n",
            "39 res3a_branch2a\n",
            "40 bn3a_branch2a\n",
            "41 activation_60\n",
            "42 res3a_branch2b\n",
            "43 bn3a_branch2b\n",
            "44 activation_61\n",
            "45 res3a_branch2c\n",
            "46 res3a_branch1\n",
            "47 bn3a_branch2c\n",
            "48 bn3a_branch1\n",
            "49 add_20\n",
            "50 activation_62\n",
            "51 res3b_branch2a\n",
            "52 bn3b_branch2a\n",
            "53 activation_63\n",
            "54 res3b_branch2b\n",
            "55 bn3b_branch2b\n",
            "56 activation_64\n",
            "57 res3b_branch2c\n",
            "58 bn3b_branch2c\n",
            "59 add_21\n",
            "60 activation_65\n",
            "61 res3c_branch2a\n",
            "62 bn3c_branch2a\n",
            "63 activation_66\n",
            "64 res3c_branch2b\n",
            "65 bn3c_branch2b\n",
            "66 activation_67\n",
            "67 res3c_branch2c\n",
            "68 bn3c_branch2c\n",
            "69 add_22\n",
            "70 activation_68\n",
            "71 res3d_branch2a\n",
            "72 bn3d_branch2a\n",
            "73 activation_69\n",
            "74 res3d_branch2b\n",
            "75 bn3d_branch2b\n",
            "76 activation_70\n",
            "77 res3d_branch2c\n",
            "78 bn3d_branch2c\n",
            "79 add_23\n",
            "80 activation_71\n",
            "81 res4a_branch2a\n",
            "82 bn4a_branch2a\n",
            "83 activation_72\n",
            "84 res4a_branch2b\n",
            "85 bn4a_branch2b\n",
            "86 activation_73\n",
            "87 res4a_branch2c\n",
            "88 res4a_branch1\n",
            "89 bn4a_branch2c\n",
            "90 bn4a_branch1\n",
            "91 add_24\n",
            "92 activation_74\n",
            "93 res4b_branch2a\n",
            "94 bn4b_branch2a\n",
            "95 activation_75\n",
            "96 res4b_branch2b\n",
            "97 bn4b_branch2b\n",
            "98 activation_76\n",
            "99 res4b_branch2c\n",
            "100 bn4b_branch2c\n",
            "101 add_25\n",
            "102 activation_77\n",
            "103 res4c_branch2a\n",
            "104 bn4c_branch2a\n",
            "105 activation_78\n",
            "106 res4c_branch2b\n",
            "107 bn4c_branch2b\n",
            "108 activation_79\n",
            "109 res4c_branch2c\n",
            "110 bn4c_branch2c\n",
            "111 add_26\n",
            "112 activation_80\n",
            "113 res4d_branch2a\n",
            "114 bn4d_branch2a\n",
            "115 activation_81\n",
            "116 res4d_branch2b\n",
            "117 bn4d_branch2b\n",
            "118 activation_82\n",
            "119 res4d_branch2c\n",
            "120 bn4d_branch2c\n",
            "121 add_27\n",
            "122 activation_83\n",
            "123 res4e_branch2a\n",
            "124 bn4e_branch2a\n",
            "125 activation_84\n",
            "126 res4e_branch2b\n",
            "127 bn4e_branch2b\n",
            "128 activation_85\n",
            "129 res4e_branch2c\n",
            "130 bn4e_branch2c\n",
            "131 add_28\n",
            "132 activation_86\n",
            "133 res4f_branch2a\n",
            "134 bn4f_branch2a\n",
            "135 activation_87\n",
            "136 res4f_branch2b\n",
            "137 bn4f_branch2b\n",
            "138 activation_88\n",
            "139 res4f_branch2c\n",
            "140 bn4f_branch2c\n",
            "141 add_29\n",
            "142 activation_89\n",
            "143 res5a_branch2a\n",
            "144 bn5a_branch2a\n",
            "145 activation_90\n",
            "146 res5a_branch2b\n",
            "147 bn5a_branch2b\n",
            "148 activation_91\n",
            "149 res5a_branch2c\n",
            "150 res5a_branch1\n",
            "151 bn5a_branch2c\n",
            "152 bn5a_branch1\n",
            "153 add_30\n",
            "154 activation_92\n",
            "155 res5b_branch2a\n",
            "156 bn5b_branch2a\n",
            "157 activation_93\n",
            "158 res5b_branch2b\n",
            "159 bn5b_branch2b\n",
            "160 activation_94\n",
            "161 res5b_branch2c\n",
            "162 bn5b_branch2c\n",
            "163 add_31\n",
            "164 activation_95\n",
            "165 res5c_branch2a\n",
            "166 bn5c_branch2a\n",
            "167 activation_96\n",
            "168 res5c_branch2b\n",
            "169 bn5c_branch2b\n",
            "170 activation_97\n",
            "171 res5c_branch2c\n",
            "172 bn5c_branch2c\n",
            "173 add_32\n",
            "174 activation_98\n",
            "175 global_average_pooling2d_3\n",
            "176 dense_1\n",
            "177 dropout_1\n",
            "178 dense_2\n",
            "179 dropout_2\n",
            "180 dense_3\n"
          ],
          "name": "stdout"
        }
      ]
    },
    {
      "cell_type": "code",
      "metadata": {
        "id": "Qz5gZiDJZ9v8",
        "colab_type": "code",
        "colab": {}
      },
      "source": [
        "# Setting the Learning rate multipliers\n",
        "#LR_mult_dict = {}\n",
        "#LR_mult_dict['dense_5']=0.01\n",
        "#LR_mult_dict['dense_6']=0.0001\n",
        "\n",
        "# Setting up optimizer\n",
        "optimizer = optimizers.Adam(lr=0.001, decay=1e-6)\n"
      ],
      "execution_count": 0,
      "outputs": []
    },
    {
      "cell_type": "code",
      "metadata": {
        "id": "BcTnHPJUEXOa",
        "colab_type": "code",
        "colab": {}
      },
      "source": [
        "#datagen=ImageDataGenerator(rotation_range=15,width_shift_range=0.1,zoom_range=[0.9, 1.25], horizontal_flip=True,) #included in our dependencies\n",
        "datagen = ImageDataGenerator(preprocessing_function=keras.applications.resnet50.preprocess_input,horizontal_flip=True,rotation_range=15)\n",
        "\n",
        "model.compile(optimizer=optimizer,loss='categorical_crossentropy',metrics=['accuracy'])"
      ],
      "execution_count": 0,
      "outputs": []
    },
    {
      "cell_type": "code",
      "metadata": {
        "id": "zNLLqhL8q5XI",
        "colab_type": "code",
        "outputId": "66f387c9-91db-4404-c6d1-f2f0d5232ccc",
        "colab": {
          "base_uri": "https://localhost:8080/",
          "height": 34
        }
      },
      "source": [
        "keras.callbacks.EarlyStopping(monitor='val_loss',\n",
        "                              min_delta=0,\n",
        "                              patience=0,\n",
        "                              verbose=0, mode='auto')"
      ],
      "execution_count": 0,
      "outputs": [
        {
          "output_type": "execute_result",
          "data": {
            "text/plain": [
              "<keras.callbacks.EarlyStopping at 0x7fde3a3653c8>"
            ]
          },
          "metadata": {
            "tags": []
          },
          "execution_count": 20
        }
      ]
    },
    {
      "cell_type": "code",
      "metadata": {
        "id": "aRe1ypemKnJF",
        "colab_type": "code",
        "outputId": "1c65576f-f687-4490-ee36-d42073cafce1",
        "colab": {
          "base_uri": "https://localhost:8080/",
          "height": 445
        }
      },
      "source": [
        "a=datetime.datetime.now()\n",
        "h=model.fit_generator(datagen.flow(x_train,y_train, batch_size=64),\n",
        "                      validation_data=(x_test,y_test),\n",
        "                   steps_per_epoch=x_train.shape[0] // 64,\n",
        "                   epochs=10)\n",
        "b=datetime.datetime.now()\n",
        "print(b-a)"
      ],
      "execution_count": 0,
      "outputs": [
        {
          "output_type": "stream",
          "text": [
            "WARNING:tensorflow:From /usr/local/lib/python3.6/dist-packages/tensorflow/python/ops/math_ops.py:3066: to_int32 (from tensorflow.python.ops.math_ops) is deprecated and will be removed in a future version.\n",
            "Instructions for updating:\n",
            "Use tf.cast instead.\n",
            "Epoch 1/10\n",
            "78/78 [==============================] - 2184s 28s/step - loss: 1.6544 - acc: 0.3882 - val_loss: 10.6552 - val_acc: 0.3389\n",
            "Epoch 2/10\n",
            "78/78 [==============================] - 2159s 28s/step - loss: 1.3551 - acc: 0.5075 - val_loss: 2.0109 - val_acc: 0.1847\n",
            "Epoch 3/10\n",
            "78/78 [==============================] - 2137s 27s/step - loss: 1.2227 - acc: 0.5341 - val_loss: 2.8419 - val_acc: 0.1847\n",
            "Epoch 4/10\n",
            "78/78 [==============================] - 2166s 28s/step - loss: 0.9766 - acc: 0.6083 - val_loss: 1.7350 - val_acc: 0.1455\n",
            "Epoch 5/10\n",
            "78/78 [==============================] - 2173s 28s/step - loss: 0.8860 - acc: 0.6451 - val_loss: 2.5765 - val_acc: 0.1455\n",
            "Epoch 6/10\n",
            "78/78 [==============================] - 2146s 28s/step - loss: 0.7590 - acc: 0.7005 - val_loss: 2.7044 - val_acc: 0.1455\n",
            "Epoch 7/10\n",
            "78/78 [==============================] - 2109s 27s/step - loss: 0.7282 - acc: 0.7213 - val_loss: 3.0559 - val_acc: 0.1455\n",
            "Epoch 8/10\n",
            "78/78 [==============================] - 2131s 27s/step - loss: 0.6531 - acc: 0.7489 - val_loss: 2.6683 - val_acc: 0.3389\n",
            "Epoch 9/10\n",
            "78/78 [==============================] - 2117s 27s/step - loss: 0.5983 - acc: 0.7746 - val_loss: 2.0296 - val_acc: 0.3389\n",
            "Epoch 10/10\n",
            "78/78 [==============================] - 2127s 27s/step - loss: 0.5416 - acc: 0.7972 - val_loss: 2.2602 - val_acc: 0.1455\n",
            "5:57:41.841788\n"
          ],
          "name": "stdout"
        }
      ]
    },
    {
      "cell_type": "code",
      "metadata": {
        "id": "EKNbI5PfKnSo",
        "colab_type": "code",
        "colab": {}
      },
      "source": [
        "model.save(\"model_10epochs.h5\")"
      ],
      "execution_count": 0,
      "outputs": []
    },
    {
      "cell_type": "code",
      "metadata": {
        "id": "skmz6yF6fyO7",
        "colab_type": "code",
        "outputId": "2083ac5d-05eb-4def-85f4-9cdc0dc959d6",
        "colab": {
          "base_uri": "https://localhost:8080/",
          "height": 295
        }
      },
      "source": [
        "\n",
        "plt.plot(h.history['loss'])\n",
        "plt.plot(h.history['val_loss'])\n",
        "plt.title('Model Loss')\n",
        "plt.ylabel('Loss')\n",
        "plt.xlabel('Epochs')\n",
        "plt.legend(['train', 'test'])\n",
        "plt.show()"
      ],
      "execution_count": 0,
      "outputs": [
        {
          "output_type": "display_data",
          "data": {
            "image/png": "[encoded data removed]",
            "text/plain": [
              "<Figure size 432x288 with 1 Axes>"
            ]
          },
          "metadata": {
            "tags": []
          }
        }
      ]
    },
    {
      "cell_type": "code",
      "metadata": {
        "id": "QQBOUoGzgBI_",
        "colab_type": "code",
        "outputId": "d9b5565e-956d-4fd5-9d87-2360ba2ca498",
        "colab": {
          "base_uri": "https://localhost:8080/",
          "height": 295
        }
      },
      "source": [
        "plt.plot(h.history['acc'])\n",
        "plt.plot(h.history['val_acc'])\n",
        "plt.title('Model Accuracy')\n",
        "plt.ylabel('Accuracy')\n",
        "plt.xlabel('Epochs')\n",
        "plt.legend(['train', 'test'])\n",
        "plt.show()\n"
      ],
      "execution_count": 0,
      "outputs": [
        {
          "output_type": "display_data",
          "data": {
            "image/png": "[encoded data removed]",
            "text/plain": [
              "<Figure size 432x288 with 1 Axes>"
            ]
          },
          "metadata": {
            "tags": []
          }
        }
      ]
    },
    {
      "cell_type": "code",
      "metadata": {
        "id": "Z2b6PYoNkaK-",
        "colab_type": "code",
        "colab": {}
      },
      "source": [
        "import pandas as pd"
      ],
      "execution_count": 0,
      "outputs": []
    },
    {
      "cell_type": "code",
      "metadata": {
        "id": "KfbtNbQtgJ1K",
        "colab_type": "code",
        "outputId": "d6efe386-1ea5-48fc-967a-96f919b40dfa",
        "colab": {
          "base_uri": "https://localhost:8080/",
          "height": 34
        }
      },
      "source": [
        "test=pd.read_csv(\"test.csv\")\n",
        "test.shape"
      ],
      "execution_count": 0,
      "outputs": [
        {
          "output_type": "execute_result",
          "data": {
            "text/plain": [
              "(2680, 1)"
            ]
          },
          "metadata": {
            "tags": []
          },
          "execution_count": 8
        }
      ]
    },
    {
      "cell_type": "code",
      "metadata": {
        "id": "FjcdApOigRBz",
        "colab_type": "code",
        "colab": {}
      },
      "source": [
        "pixels=pd.read_csv(\"output128_3.csv\")"
      ],
      "execution_count": 0,
      "outputs": []
    },
    {
      "cell_type": "code",
      "metadata": {
        "id": "-TWSJk55gRJT",
        "colab_type": "code",
        "outputId": "4ff91910-0792-4350-e04d-ec445a5df860",
        "colab": {
          "base_uri": "https://localhost:8080/",
          "height": 139
        }
      },
      "source": [
        "from keras.models import load_model\n",
        "new=load_model(\"model2_with10epochs.h5\")\n"
      ],
      "execution_count": 0,
      "outputs": [
        {
          "output_type": "stream",
          "text": [
            "WARNING:tensorflow:From /usr/local/lib/python3.6/dist-packages/tensorflow/python/framework/op_def_library.py:263: colocate_with (from tensorflow.python.framework.ops) is deprecated and will be removed in a future version.\n",
            "Instructions for updating:\n",
            "Colocations handled automatically by placer.\n",
            "WARNING:tensorflow:From /usr/local/lib/python3.6/dist-packages/tensorflow/python/ops/math_ops.py:3066: to_int32 (from tensorflow.python.ops.math_ops) is deprecated and will be removed in a future version.\n",
            "Instructions for updating:\n",
            "Use tf.cast instead.\n"
          ],
          "name": "stdout"
        }
      ]
    },
    {
      "cell_type": "code",
      "metadata": {
        "id": "DNejVW-mgRME",
        "colab_type": "code",
        "colab": {}
      },
      "source": [
        "test_data=pd.merge(test, pixels, on='image')\n"
      ],
      "execution_count": 0,
      "outputs": []
    },
    {
      "cell_type": "code",
      "metadata": {
        "id": "2PUPzSS-gRPe",
        "colab_type": "code",
        "outputId": "5ec8f8d4-282a-47ec-839b-d756e802e651",
        "colab": {
          "base_uri": "https://localhost:8080/",
          "height": 34
        }
      },
      "source": [
        "test_data.shape"
      ],
      "execution_count": 0,
      "outputs": [
        {
          "output_type": "execute_result",
          "data": {
            "text/plain": [
              "(2680, 49153)"
            ]
          },
          "metadata": {
            "tags": []
          },
          "execution_count": 12
        }
      ]
    },
    {
      "cell_type": "code",
      "metadata": {
        "id": "KBFwwDYMgRXg",
        "colab_type": "code",
        "outputId": "8700aee7-78b4-44e7-ded3-ce9f4c738975",
        "colab": {
          "base_uri": "https://localhost:8080/",
          "height": 102
        }
      },
      "source": [
        "test_data.columns"
      ],
      "execution_count": 0,
      "outputs": [
        {
          "output_type": "execute_result",
          "data": {
            "text/plain": [
              "Index(['image', 'f1', 'f2', 'f3', 'f4', 'f5', 'f6', 'f7', 'f8', 'f9',\n",
              "       ...\n",
              "       'f49143', 'f49144', 'f49145', 'f49146', 'f49147', 'f49148', 'f49149',\n",
              "       'f49150', 'f49151', 'f49152'],\n",
              "      dtype='object', length=49153)"
            ]
          },
          "metadata": {
            "tags": []
          },
          "execution_count": 13
        }
      ]
    },
    {
      "cell_type": "code",
      "metadata": {
        "id": "3RHIO1G4uSk9",
        "colab_type": "code",
        "colab": {}
      },
      "source": [
        "x_test=test_data.drop(labels = [\"image\"],axis = 1)"
      ],
      "execution_count": 0,
      "outputs": []
    },
    {
      "cell_type": "code",
      "metadata": {
        "id": "1-WgJ9R9uduT",
        "colab_type": "code",
        "colab": {}
      },
      "source": [
        "x_test1=x_test/5"
      ],
      "execution_count": 0,
      "outputs": []
    },
    {
      "cell_type": "code",
      "metadata": {
        "id": "W-N8lRUnujbI",
        "colab_type": "code",
        "outputId": "f2450d28-ffce-463e-ad33-957852cd05df",
        "colab": {
          "base_uri": "https://localhost:8080/",
          "height": 34
        }
      },
      "source": [
        "x_test1.shape"
      ],
      "execution_count": 0,
      "outputs": [
        {
          "output_type": "execute_result",
          "data": {
            "text/plain": [
              "(2680, 49152)"
            ]
          },
          "metadata": {
            "tags": []
          },
          "execution_count": 18
        }
      ]
    },
    {
      "cell_type": "code",
      "metadata": {
        "id": "NM0EixHKvSys",
        "colab_type": "code",
        "colab": {}
      },
      "source": [
        "x_test1=x_test1.values.reshape(-1,128,128,3)"
      ],
      "execution_count": 0,
      "outputs": []
    },
    {
      "cell_type": "code",
      "metadata": {
        "id": "l3V2yHRovfEs",
        "colab_type": "code",
        "colab": {}
      },
      "source": [
        "ypred_test=new.predict(x_test1)"
      ],
      "execution_count": 0,
      "outputs": []
    },
    {
      "cell_type": "code",
      "metadata": {
        "id": "BZ9EyGZJvjz6",
        "colab_type": "code",
        "outputId": "d26f16ba-a184-4813-d19f-ddc34fd1bddd",
        "colab": {
          "base_uri": "https://localhost:8080/",
          "height": 34
        }
      },
      "source": [
        "ypred_test.shape"
      ],
      "execution_count": 0,
      "outputs": [
        {
          "output_type": "execute_result",
          "data": {
            "text/plain": [
              "(2680, 5)"
            ]
          },
          "metadata": {
            "tags": []
          },
          "execution_count": 21
        }
      ]
    },
    {
      "cell_type": "code",
      "metadata": {
        "id": "mTlJo8-tycEl",
        "colab_type": "code",
        "colab": {}
      },
      "source": [
        "import numpy as np\n",
        "prediction=np.argmax(ypred_test,axis=1)\n",
        "      \n",
        "    "
      ],
      "execution_count": 0,
      "outputs": []
    },
    {
      "cell_type": "code",
      "metadata": {
        "id": "qractOiO4B2j",
        "colab_type": "code",
        "outputId": "80dab213-9e59-4a6b-ad25-c3be89fc84f7",
        "colab": {
          "base_uri": "https://localhost:8080/",
          "height": 34
        }
      },
      "source": [
        "prediction.shape"
      ],
      "execution_count": 0,
      "outputs": [
        {
          "output_type": "execute_result",
          "data": {
            "text/plain": [
              "(2680,)"
            ]
          },
          "metadata": {
            "tags": []
          },
          "execution_count": 23
        }
      ]
    },
    {
      "cell_type": "code",
      "metadata": {
        "id": "cFzNuyfU4vRh",
        "colab_type": "code",
        "colab": {}
      },
      "source": [
        "pred_list=prediction.tolist()"
      ],
      "execution_count": 0,
      "outputs": []
    },
    {
      "cell_type": "code",
      "metadata": {
        "id": "ocX8UFflC1_M",
        "colab_type": "code",
        "colab": {}
      },
      "source": [
        "pred_list1=[]\n",
        "for i in pred_list:\n",
        "  pred_list1.append(i+1)"
      ],
      "execution_count": 0,
      "outputs": []
    },
    {
      "cell_type": "code",
      "metadata": {
        "id": "vx9HAuM35kR-",
        "colab_type": "code",
        "outputId": "9bd71be9-204b-451c-8bf4-c3bc99e413c9",
        "colab": {
          "base_uri": "https://localhost:8080/",
          "height": 54
        }
      },
      "source": [
        "from csv import DictReader\n",
        "with open('test.csv') as f:\n",
        "    image1=[row['image'] for row in DictReader(f)]\n",
        "\n",
        "df=pd.DataFrame(data={\"image\":image1,\"category\":pred_list1})\n",
        "df.to_csv(\"submit1_1283.csv\",sep=',',index=False)\n"
      ],
      "execution_count": 0,
      "outputs": [
        {
          "output_type": "execute_result",
          "data": {
            "text/plain": [
              "'from csv import DictReader\\nwith open(\\'test.csv\\') as f:\\n    image1=[row[\\'image\\'] for row in DictReader(f)]\\n\\ndf=pd.DataFrame(data={\"image\":image1,\"category\":pred_list1})\\ndf.to_csv(\"submit1_1283.csv\",sep=\\',\\',index=False)\\n'"
            ]
          },
          "metadata": {
            "tags": []
          },
          "execution_count": 26
        }
      ]
    },
    {
      "cell_type": "code",
      "metadata": {
        "id": "-xObi04LCKEt",
        "colab_type": "code",
        "colab": {}
      },
      "source": [
        ""
      ],
      "execution_count": 0,
      "outputs": []
    }
  ]
}